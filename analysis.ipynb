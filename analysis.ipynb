{
 "cells": [
  {
   "cell_type": "markdown",
   "metadata": {},
   "source": [
    "## Import packages"
   ]
  },
  {
   "cell_type": "code",
   "execution_count": 1,
   "metadata": {},
   "outputs": [],
   "source": [
    "import pandas as pd\n",
    "import numpy as np"
   ]
  },
  {
   "cell_type": "markdown",
   "metadata": {},
   "source": [
    "## Load data"
   ]
  },
  {
   "cell_type": "code",
   "execution_count": 2,
   "metadata": {},
   "outputs": [],
   "source": [
    "summary_data = pd.read_csv('../Parsed Data/summary_data.csv')"
   ]
  },
  {
   "cell_type": "code",
   "execution_count": 3,
   "metadata": {},
   "outputs": [
    {
     "data": {
      "text/plain": [
       "(248, 8)"
      ]
     },
     "execution_count": 3,
     "metadata": {},
     "output_type": "execute_result"
    }
   ],
   "source": [
    "summary_data.shape"
   ]
  },
  {
   "cell_type": "code",
   "execution_count": 4,
   "metadata": {},
   "outputs": [
    {
     "data": {
      "text/html": [
       "<div>\n",
       "<style scoped>\n",
       "    .dataframe tbody tr th:only-of-type {\n",
       "        vertical-align: middle;\n",
       "    }\n",
       "\n",
       "    .dataframe tbody tr th {\n",
       "        vertical-align: top;\n",
       "    }\n",
       "\n",
       "    .dataframe thead th {\n",
       "        text-align: right;\n",
       "    }\n",
       "</style>\n",
       "<table border=\"1\" class=\"dataframe\">\n",
       "  <thead>\n",
       "    <tr style=\"text-align: right;\">\n",
       "      <th></th>\n",
       "      <th>ActivityID</th>\n",
       "      <th>FileName</th>\n",
       "      <th>SportType</th>\n",
       "      <th>StartDate</th>\n",
       "      <th>StartTime</th>\n",
       "      <th>TotalTime</th>\n",
       "      <th>TotalDistance</th>\n",
       "      <th>TotalCalories</th>\n",
       "    </tr>\n",
       "  </thead>\n",
       "  <tbody>\n",
       "    <tr>\n",
       "      <th>0</th>\n",
       "      <td>1</td>\n",
       "      <td>20160529_182949.tcx</td>\n",
       "      <td>Running</td>\n",
       "      <td>2016-05-29</td>\n",
       "      <td>18:29:49</td>\n",
       "      <td>1460</td>\n",
       "      <td>3683.95</td>\n",
       "      <td>419</td>\n",
       "    </tr>\n",
       "    <tr>\n",
       "      <th>1</th>\n",
       "      <td>2</td>\n",
       "      <td>20160530_181938.tcx</td>\n",
       "      <td>Running</td>\n",
       "      <td>2016-05-30</td>\n",
       "      <td>18:19:38</td>\n",
       "      <td>1680</td>\n",
       "      <td>4169.46</td>\n",
       "      <td>475</td>\n",
       "    </tr>\n",
       "    <tr>\n",
       "      <th>2</th>\n",
       "      <td>3</td>\n",
       "      <td>20160531_184646.tcx</td>\n",
       "      <td>Running</td>\n",
       "      <td>2016-05-31</td>\n",
       "      <td>18:46:46</td>\n",
       "      <td>1489</td>\n",
       "      <td>3890.36</td>\n",
       "      <td>441</td>\n",
       "    </tr>\n",
       "    <tr>\n",
       "      <th>3</th>\n",
       "      <td>4</td>\n",
       "      <td>20160601_174610.tcx</td>\n",
       "      <td>Running</td>\n",
       "      <td>2016-06-01</td>\n",
       "      <td>17:46:10</td>\n",
       "      <td>1401</td>\n",
       "      <td>3796.07</td>\n",
       "      <td>428</td>\n",
       "    </tr>\n",
       "    <tr>\n",
       "      <th>4</th>\n",
       "      <td>5</td>\n",
       "      <td>20160602_191421.tcx</td>\n",
       "      <td>Running</td>\n",
       "      <td>2016-06-02</td>\n",
       "      <td>19:14:21</td>\n",
       "      <td>1506</td>\n",
       "      <td>3880.34</td>\n",
       "      <td>440</td>\n",
       "    </tr>\n",
       "  </tbody>\n",
       "</table>\n",
       "</div>"
      ],
      "text/plain": [
       "   ActivityID             FileName SportType   StartDate StartTime  TotalTime  \\\n",
       "0           1  20160529_182949.tcx   Running  2016-05-29  18:29:49       1460   \n",
       "1           2  20160530_181938.tcx   Running  2016-05-30  18:19:38       1680   \n",
       "2           3  20160531_184646.tcx   Running  2016-05-31  18:46:46       1489   \n",
       "3           4  20160601_174610.tcx   Running  2016-06-01  17:46:10       1401   \n",
       "4           5  20160602_191421.tcx   Running  2016-06-02  19:14:21       1506   \n",
       "\n",
       "   TotalDistance  TotalCalories  \n",
       "0        3683.95            419  \n",
       "1        4169.46            475  \n",
       "2        3890.36            441  \n",
       "3        3796.07            428  \n",
       "4        3880.34            440  "
      ]
     },
     "execution_count": 4,
     "metadata": {},
     "output_type": "execute_result"
    }
   ],
   "source": [
    "summary_data.head()"
   ]
  },
  {
   "cell_type": "code",
   "execution_count": 5,
   "metadata": {},
   "outputs": [],
   "source": [
    "tracking_data = pd.read_csv('../Parsed Data/tracking_data.csv')"
   ]
  },
  {
   "cell_type": "code",
   "execution_count": 6,
   "metadata": {},
   "outputs": [
    {
     "data": {
      "text/plain": [
       "(107033, 6)"
      ]
     },
     "execution_count": 6,
     "metadata": {},
     "output_type": "execute_result"
    }
   ],
   "source": [
    "tracking_data.shape"
   ]
  },
  {
   "cell_type": "code",
   "execution_count": 7,
   "metadata": {},
   "outputs": [
    {
     "data": {
      "text/html": [
       "<div>\n",
       "<style scoped>\n",
       "    .dataframe tbody tr th:only-of-type {\n",
       "        vertical-align: middle;\n",
       "    }\n",
       "\n",
       "    .dataframe tbody tr th {\n",
       "        vertical-align: top;\n",
       "    }\n",
       "\n",
       "    .dataframe thead th {\n",
       "        text-align: right;\n",
       "    }\n",
       "</style>\n",
       "<table border=\"1\" class=\"dataframe\">\n",
       "  <thead>\n",
       "    <tr style=\"text-align: right;\">\n",
       "      <th></th>\n",
       "      <th>ActivityID</th>\n",
       "      <th>TrackingID</th>\n",
       "      <th>TrackingTime</th>\n",
       "      <th>TrackingLatitude</th>\n",
       "      <th>TrackingLongitude</th>\n",
       "      <th>TrackingDistance</th>\n",
       "    </tr>\n",
       "  </thead>\n",
       "  <tbody>\n",
       "    <tr>\n",
       "      <th>0</th>\n",
       "      <td>1</td>\n",
       "      <td>1</td>\n",
       "      <td>18:29:49</td>\n",
       "      <td>54.729475</td>\n",
       "      <td>25.245572</td>\n",
       "      <td>0.00</td>\n",
       "    </tr>\n",
       "    <tr>\n",
       "      <th>1</th>\n",
       "      <td>1</td>\n",
       "      <td>2</td>\n",
       "      <td>18:29:50</td>\n",
       "      <td>54.729475</td>\n",
       "      <td>25.245572</td>\n",
       "      <td>0.00</td>\n",
       "    </tr>\n",
       "    <tr>\n",
       "      <th>2</th>\n",
       "      <td>1</td>\n",
       "      <td>3</td>\n",
       "      <td>18:30:00</td>\n",
       "      <td>54.729307</td>\n",
       "      <td>25.245577</td>\n",
       "      <td>37.43</td>\n",
       "    </tr>\n",
       "    <tr>\n",
       "      <th>3</th>\n",
       "      <td>1</td>\n",
       "      <td>4</td>\n",
       "      <td>18:30:10</td>\n",
       "      <td>54.729041</td>\n",
       "      <td>25.245540</td>\n",
       "      <td>67.18</td>\n",
       "    </tr>\n",
       "    <tr>\n",
       "      <th>4</th>\n",
       "      <td>1</td>\n",
       "      <td>5</td>\n",
       "      <td>18:30:16</td>\n",
       "      <td>54.728874</td>\n",
       "      <td>25.245522</td>\n",
       "      <td>85.79</td>\n",
       "    </tr>\n",
       "  </tbody>\n",
       "</table>\n",
       "</div>"
      ],
      "text/plain": [
       "   ActivityID  TrackingID TrackingTime  TrackingLatitude  TrackingLongitude  \\\n",
       "0           1           1     18:29:49         54.729475          25.245572   \n",
       "1           1           2     18:29:50         54.729475          25.245572   \n",
       "2           1           3     18:30:00         54.729307          25.245577   \n",
       "3           1           4     18:30:10         54.729041          25.245540   \n",
       "4           1           5     18:30:16         54.728874          25.245522   \n",
       "\n",
       "   TrackingDistance  \n",
       "0              0.00  \n",
       "1              0.00  \n",
       "2             37.43  \n",
       "3             67.18  \n",
       "4             85.79  "
      ]
     },
     "execution_count": 7,
     "metadata": {},
     "output_type": "execute_result"
    }
   ],
   "source": [
    "tracking_data.head()"
   ]
  },
  {
   "cell_type": "markdown",
   "metadata": {},
   "source": [
    "## Data analysis"
   ]
  },
  {
   "cell_type": "code",
   "execution_count": null,
   "metadata": {},
   "outputs": [],
   "source": []
  }
 ],
 "metadata": {
  "kernelspec": {
   "display_name": "Python 3",
   "language": "python",
   "name": "python3"
  },
  "language_info": {
   "codemirror_mode": {
    "name": "ipython",
    "version": 3
   },
   "file_extension": ".py",
   "mimetype": "text/x-python",
   "name": "python",
   "nbconvert_exporter": "python",
   "pygments_lexer": "ipython3",
   "version": "3.7.1"
  },
  "toc": {
   "base_numbering": 1,
   "nav_menu": {},
   "number_sections": true,
   "sideBar": true,
   "skip_h1_title": false,
   "title_cell": "Table of Contents",
   "title_sidebar": "Contents",
   "toc_cell": false,
   "toc_position": {
    "height": "calc(100% - 180px)",
    "left": "10px",
    "top": "150px",
    "width": "165px"
   },
   "toc_section_display": true,
   "toc_window_display": false
  }
 },
 "nbformat": 4,
 "nbformat_minor": 2
}
